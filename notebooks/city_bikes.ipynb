{
 "cells": [
  {
   "cell_type": "markdown",
   "metadata": {},
   "source": [
    "# CityBikes"
   ]
  },
  {
   "cell_type": "markdown",
   "metadata": {},
   "source": [
    "Send a request to CityBikes for the city of your choice. "
   ]
  },
  {
   "cell_type": "markdown",
   "metadata": {},
   "source": [
    "Parse through the response to get the details you want for the bike stations in that city (latitude, longitude, number of bikes). "
   ]
  },
  {
   "cell_type": "markdown",
   "metadata": {},
   "source": [
    "Put your parsed results into a DataFrame."
   ]
  },
  {
   "cell_type": "code",
   "execution_count": 1,
   "metadata": {},
   "outputs": [],
   "source": [
    "import requests\n",
    "import pandas as pd\n",
    "import datetime"
   ]
  },
  {
   "cell_type": "code",
   "execution_count": null,
   "metadata": {},
   "outputs": [],
   "source": [
    "# send a request to CityBikes and get the json file\n",
    "url = \"http://api.citybik.es/v2/networks\"\n",
    "city_bikes = requests.get(url).json()\n",
    "#print(city_bikes)"
   ]
  },
  {
   "cell_type": "code",
   "execution_count": 3,
   "metadata": {},
   "outputs": [
    {
     "data": {
      "text/plain": [
       "611"
      ]
     },
     "execution_count": 3,
     "metadata": {},
     "output_type": "execute_result"
    }
   ],
   "source": [
    "city_bikes['networks']\n",
    "len(city_bikes['networks'])"
   ]
  },
  {
   "cell_type": "code",
   "execution_count": 57,
   "metadata": {},
   "outputs": [
    {
     "name": "stdout",
     "output_type": "stream",
     "text": [
      "Moscow\n",
      "Bærum\n",
      "Siena\n",
      "Maroussi\n",
      "Slough\n",
      "Nafplio\n",
      "Parco dei Colli di Bergamo\n",
      "Aigialeia\n",
      "Marathon\n",
      "Mantova\n"
     ]
    }
   ],
   "source": [
    " # get 10 cities\n",
    "limit = 10 \n",
    "for i, network in enumerate(city_bikes['networks']):\n",
    "    if i >= limit:\n",
    "        break\n",
    "    print(network['location']['city'])"
   ]
  },
  {
   "cell_type": "code",
   "execution_count": 70,
   "metadata": {},
   "outputs": [
    {
     "name": "stdout",
     "output_type": "stream",
     "text": [
      "Νea Smyrni\n"
     ]
    }
   ],
   "source": [
    " print(network['location']['city'])"
   ]
  },
  {
   "cell_type": "code",
   "execution_count": null,
   "metadata": {},
   "outputs": [],
   "source": []
  },
  {
   "cell_type": "code",
   "execution_count": 8,
   "metadata": {},
   "outputs": [],
   "source": [
    "# define a function to get city data\n",
    "\n",
    "import requests\n",
    "\n",
    "def get_city_data(city):\n",
    "    url = \"http://api.citybik.es/v2/networks\"\n",
    "    city_bikes = requests.get(url).json()\n",
    "    \n",
    "    list_of_city = []    \n",
    "    for city_bike_dict in city_bikes['networks']:\n",
    "        new_city = city_bike_dict['location']['city']\n",
    "        if new_city.lower() == city.lower():\n",
    "            list_of_city.append(city_bike_dict)\n",
    "    return list_of_city\n"
   ]
  },
  {
   "cell_type": "code",
   "execution_count": 9,
   "metadata": {},
   "outputs": [
    {
     "data": {
      "text/plain": [
       "[{'company': ['Social Bicycles Inc.'],\n",
       "  'gbfs_href': 'https://hamilton.socialbicycles.com/opendata/gbfs.json',\n",
       "  'href': '/v2/networks/sobi-hamilton',\n",
       "  'id': 'sobi-hamilton',\n",
       "  'location': {'city': 'Hamilton, ON',\n",
       "   'country': 'CA',\n",
       "   'latitude': 43.25643601915583,\n",
       "   'longitude': -79.86929655075073},\n",
       "  'name': 'SoBi'}]"
      ]
     },
     "execution_count": 9,
     "metadata": {},
     "output_type": "execute_result"
    }
   ],
   "source": [
    "\n",
    "get_city_data(\"Hamilton, ON\")"
   ]
  },
  {
   "cell_type": "code",
   "execution_count": 61,
   "metadata": {},
   "outputs": [],
   "source": [
    "# define a function to get station data from city\n",
    "\n",
    "def get_stations_info(city):\n",
    "    station_dict = get_city_data(city)\n",
    "    if not station_dict:\n",
    "        print(\"Error:No bike company found for {}\".format(city))\n",
    "        return None\n",
    "    \n",
    "    network_address = station_dict[0]['href']\n",
    "    url = \"http://api.citybik.es/{}\".format(network_address)\n",
    "    return requests.get(url).json()['network']['stations']"
   ]
  },
  {
   "cell_type": "code",
   "execution_count": null,
   "metadata": {},
   "outputs": [],
   "source": [
    "get_stations_info(\"Hamilton, ON\")"
   ]
  },
  {
   "cell_type": "code",
   "execution_count": 56,
   "metadata": {},
   "outputs": [],
   "source": [
    "# parse the JSON object the into a pandas dataframe\n",
    "\n",
    "\n",
    "import pandas as pd\n",
    "\n",
    "dfs = pd.DataFrame()\n",
    "\n",
    "station_info = get_stations_info(\"Hamilton, ON\")\n",
    "station_list = []\n",
    "\n",
    "for info in station_info:\n",
    "    station_name = info['name']\n",
    "    empty_slots = info['empty_slots']\n",
    "    free_bikes = info['free_bikes']\n",
    "    latitude = info['latitude']\n",
    "    longitude = info['longitude']\n",
    "    timestamp = info['timestamp']\n",
    "\n",
    "    row = pd.DataFrame({'station_name': [station_name],'empty_slots': [empty_slots], 'free_bikes': [free_bikes],\n",
    "                         'payment': [payment], 'latitude': [latitude], 'longitude': [longitude],\n",
    "                        'timestamp': [timestamp]})\n",
    "    dfs = pd.concat([dfs, row], ignore_index=True)\n",
    "    "
   ]
  },
  {
   "cell_type": "code",
   "execution_count": 69,
   "metadata": {},
   "outputs": [
    {
     "data": {
      "text/html": [
       "<div>\n",
       "<style scoped>\n",
       "    .dataframe tbody tr th:only-of-type {\n",
       "        vertical-align: middle;\n",
       "    }\n",
       "\n",
       "    .dataframe tbody tr th {\n",
       "        vertical-align: top;\n",
       "    }\n",
       "\n",
       "    .dataframe thead th {\n",
       "        text-align: right;\n",
       "    }\n",
       "</style>\n",
       "<table border=\"1\" class=\"dataframe\">\n",
       "  <thead>\n",
       "    <tr style=\"text-align: right;\">\n",
       "      <th></th>\n",
       "      <th>station_name</th>\n",
       "      <th>empty_slots</th>\n",
       "      <th>free_bikes</th>\n",
       "      <th>payment</th>\n",
       "      <th>latitude</th>\n",
       "      <th>longitude</th>\n",
       "      <th>timestamp</th>\n",
       "    </tr>\n",
       "  </thead>\n",
       "  <tbody>\n",
       "    <tr>\n",
       "      <th>1</th>\n",
       "      <td>Bayfront Park</td>\n",
       "      <td>12</td>\n",
       "      <td>19</td>\n",
       "      <td>key, applepay, androidpay, transitcard, accoun...</td>\n",
       "      <td>43.269288</td>\n",
       "      <td>-79.871327</td>\n",
       "      <td>2023-06-05T03:11:15.807000Z</td>\n",
       "    </tr>\n",
       "    <tr>\n",
       "      <th>42</th>\n",
       "      <td>Sanders at Hollywood</td>\n",
       "      <td>0</td>\n",
       "      <td>16</td>\n",
       "      <td>key, applepay, androidpay, transitcard, accoun...</td>\n",
       "      <td>43.259903</td>\n",
       "      <td>-79.926481</td>\n",
       "      <td>2023-06-05T03:11:15.971000Z</td>\n",
       "    </tr>\n",
       "    <tr>\n",
       "      <th>50</th>\n",
       "      <td>John at Main</td>\n",
       "      <td>0</td>\n",
       "      <td>15</td>\n",
       "      <td>key, applepay, androidpay, transitcard, accoun...</td>\n",
       "      <td>43.254529</td>\n",
       "      <td>-79.867180</td>\n",
       "      <td>2023-06-05T03:11:15.985000Z</td>\n",
       "    </tr>\n",
       "    <tr>\n",
       "      <th>93</th>\n",
       "      <td>Athletic Centre Bike Racks</td>\n",
       "      <td>5</td>\n",
       "      <td>14</td>\n",
       "      <td>key, applepay, androidpay, transitcard, accoun...</td>\n",
       "      <td>43.264715</td>\n",
       "      <td>-79.915746</td>\n",
       "      <td>2023-06-05T03:11:16.093000Z</td>\n",
       "    </tr>\n",
       "    <tr>\n",
       "      <th>22</th>\n",
       "      <td>McMaster Mary Keyes</td>\n",
       "      <td>0</td>\n",
       "      <td>14</td>\n",
       "      <td>key, applepay, androidpay, transitcard, accoun...</td>\n",
       "      <td>43.262460</td>\n",
       "      <td>-79.922247</td>\n",
       "      <td>2023-06-05T03:11:15.925000Z</td>\n",
       "    </tr>\n",
       "    <tr>\n",
       "      <th>44</th>\n",
       "      <td>Rail Trail at Stroud</td>\n",
       "      <td>0</td>\n",
       "      <td>13</td>\n",
       "      <td>key, applepay, androidpay, transitcard, accoun...</td>\n",
       "      <td>43.253592</td>\n",
       "      <td>-79.916615</td>\n",
       "      <td>2023-06-05T03:11:15.972000Z</td>\n",
       "    </tr>\n",
       "    <tr>\n",
       "      <th>113</th>\n",
       "      <td>Cootes at York and King</td>\n",
       "      <td>2</td>\n",
       "      <td>13</td>\n",
       "      <td>key, applepay, androidpay, transitcard, accoun...</td>\n",
       "      <td>43.265581</td>\n",
       "      <td>-79.949656</td>\n",
       "      <td>2023-06-05T03:11:15.989000Z</td>\n",
       "    </tr>\n",
       "    <tr>\n",
       "      <th>13</th>\n",
       "      <td>Hunter at Hess</td>\n",
       "      <td>3</td>\n",
       "      <td>13</td>\n",
       "      <td>key, applepay, androidpay, transitcard, accoun...</td>\n",
       "      <td>43.255383</td>\n",
       "      <td>-79.878896</td>\n",
       "      <td>2023-06-05T03:11:15.882000Z</td>\n",
       "    </tr>\n",
       "    <tr>\n",
       "      <th>34</th>\n",
       "      <td>Princess Point</td>\n",
       "      <td>0</td>\n",
       "      <td>13</td>\n",
       "      <td>key, applepay, androidpay, transitcard, accoun...</td>\n",
       "      <td>43.272991</td>\n",
       "      <td>-79.894527</td>\n",
       "      <td>2023-06-05T03:11:15.953000Z</td>\n",
       "    </tr>\n",
       "    <tr>\n",
       "      <th>104</th>\n",
       "      <td>Aberdeen at Studholme</td>\n",
       "      <td>1</td>\n",
       "      <td>12</td>\n",
       "      <td>key, applepay, androidpay, transitcard, accoun...</td>\n",
       "      <td>43.252628</td>\n",
       "      <td>-79.899693</td>\n",
       "      <td>2023-06-05T03:11:16.112000Z</td>\n",
       "    </tr>\n",
       "  </tbody>\n",
       "</table>\n",
       "</div>"
      ],
      "text/plain": [
       "                   station_name  empty_slots  free_bikes  \\\n",
       "1                 Bayfront Park           12          19   \n",
       "42         Sanders at Hollywood            0          16   \n",
       "50                 John at Main            0          15   \n",
       "93   Athletic Centre Bike Racks            5          14   \n",
       "22          McMaster Mary Keyes            0          14   \n",
       "44         Rail Trail at Stroud            0          13   \n",
       "113     Cootes at York and King            2          13   \n",
       "13               Hunter at Hess            3          13   \n",
       "34               Princess Point            0          13   \n",
       "104       Aberdeen at Studholme            1          12   \n",
       "\n",
       "                                               payment   latitude  longitude  \\\n",
       "1    key, applepay, androidpay, transitcard, accoun...  43.269288 -79.871327   \n",
       "42   key, applepay, androidpay, transitcard, accoun...  43.259903 -79.926481   \n",
       "50   key, applepay, androidpay, transitcard, accoun...  43.254529 -79.867180   \n",
       "93   key, applepay, androidpay, transitcard, accoun...  43.264715 -79.915746   \n",
       "22   key, applepay, androidpay, transitcard, accoun...  43.262460 -79.922247   \n",
       "44   key, applepay, androidpay, transitcard, accoun...  43.253592 -79.916615   \n",
       "113  key, applepay, androidpay, transitcard, accoun...  43.265581 -79.949656   \n",
       "13   key, applepay, androidpay, transitcard, accoun...  43.255383 -79.878896   \n",
       "34   key, applepay, androidpay, transitcard, accoun...  43.272991 -79.894527   \n",
       "104  key, applepay, androidpay, transitcard, accoun...  43.252628 -79.899693   \n",
       "\n",
       "                       timestamp  \n",
       "1    2023-06-05T03:11:15.807000Z  \n",
       "42   2023-06-05T03:11:15.971000Z  \n",
       "50   2023-06-05T03:11:15.985000Z  \n",
       "93   2023-06-05T03:11:16.093000Z  \n",
       "22   2023-06-05T03:11:15.925000Z  \n",
       "44   2023-06-05T03:11:15.972000Z  \n",
       "113  2023-06-05T03:11:15.989000Z  \n",
       "13   2023-06-05T03:11:15.882000Z  \n",
       "34   2023-06-05T03:11:15.953000Z  \n",
       "104  2023-06-05T03:11:16.112000Z  "
      ]
     },
     "execution_count": 69,
     "metadata": {},
     "output_type": "execute_result"
    }
   ],
   "source": [
    "dfs.head(10)"
   ]
  },
  {
   "cell_type": "code",
   "execution_count": 68,
   "metadata": {},
   "outputs": [
    {
     "data": {
      "text/plain": [
       "(132, 7)"
      ]
     },
     "execution_count": 68,
     "metadata": {},
     "output_type": "execute_result"
    }
   ],
   "source": [
    "# choose the stattion that free_bike > 0 \n",
    "\n",
    "dfs = dfs[dfs['free_bikes']>0].sort_values(by = 'free_bikes',ascending = False)\n",
    "dfs.shape\n"
   ]
  },
  {
   "cell_type": "code",
   "execution_count": 65,
   "metadata": {},
   "outputs": [],
   "source": [
    "# store the dataframe to JSON file\n",
    "\n",
    "dfs.to_json('citybike_station.json')"
   ]
  },
  {
   "cell_type": "code",
   "execution_count": 53,
   "metadata": {},
   "outputs": [],
   "source": [
    "#dfs = pd.read_json('citybike_station.json')"
   ]
  }
 ],
 "metadata": {
  "kernelspec": {
   "display_name": "Python 3 (ipykernel)",
   "language": "python",
   "name": "python3"
  },
  "language_info": {
   "codemirror_mode": {
    "name": "ipython",
    "version": 3
   },
   "file_extension": ".py",
   "mimetype": "text/x-python",
   "name": "python",
   "nbconvert_exporter": "python",
   "pygments_lexer": "ipython3",
   "version": "3.10.9"
  }
 },
 "nbformat": 4,
 "nbformat_minor": 4
}
